{
 "cells": [
  {
   "cell_type": "code",
   "execution_count": 1,
   "metadata": {},
   "outputs": [
    {
     "name": "stdout",
     "output_type": "stream",
     "text": [
      "connect\n",
      "recv:  {'command': 'state', 'content': {'baseLinkPos': {'x': -0.11361023, 'y': -0.0467397869}, 'baseLinkOrientation': 0.106178574, 'baseLinkVelocity': {'x': -0.09783887, 'y': 0.000716104754}, 'baseLinkAngularVelocity': 0.0006899055, 'wheelBaseOrientation': [3.52815151, 3.78001571, 3.96643329, 3.97851849], 'wheelSpeed': [-0.0274148826, -0.0295335054, -0.03515495, -0.0213933643]}}\n"
     ]
    }
   ],
   "source": [
    "import json\n",
    "import websockets, asyncio\n",
    "\n",
    "# the interface to the server\n",
    "class WSManager:\n",
    "    def __init__(self):\n",
    "        self.debug = False\n",
    "        self.inQueue = asyncio.Queue()\n",
    "        self.outQueue = asyncio.Queue()\n",
    "        self.ws = None\n",
    "        asyncio.create_task(self.message_sender_loop())\n",
    "\n",
    "    async def message_sender_loop(self):\n",
    "        while True:\n",
    "            try:\n",
    "                message = await self.outQueue.get()\n",
    "                await self.ws.send(json.dumps(message, indent=4))\n",
    "            except Exception as e: print(e)\n",
    "    def recv(self,message):\n",
    "        self.inQueue.put_nowait(message)\n",
    "        if self.debug:\n",
    "            print(\"recv: \",message)\n",
    "    def send(self,command, content):\n",
    "        self.outQueue.put_nowait({'command':command,'content':content})\n",
    "    \n",
    "ws = WSManager()\n",
    "ws.debug = True\n",
    "\n",
    "# the server\n",
    "def server():\n",
    "    async def echo(websocket):\n",
    "        ws.ws = websocket\n",
    "        print('connect')\n",
    "        async for message in websocket:\n",
    "            try:\n",
    "                ws.recv(json.loads(message))\n",
    "            except json.decoder.JSONDecodeError:\n",
    "                ws.recv(message)\n",
    "\n",
    "    async def main():\n",
    "        try:\n",
    "            async with websockets.serve(echo, \"localhost\", 8765):\n",
    "                await asyncio.Future()  # run forever\n",
    "        except websockets.exceptions.ConnectionClosedError as e: print(e)\n",
    "\n",
    "    asyncio.run(main())\n",
    "\n",
    "# start the server in a separate thread to avoid blocking\n",
    "import threading\n",
    "t=threading.Thread(target=server)\n",
    "t.start()"
   ]
  },
  {
   "cell_type": "code",
   "execution_count": 7,
   "metadata": {},
   "outputs": [
    {
     "name": "stdout",
     "output_type": "stream",
     "text": [
      "recv:  {'command': 'state', 'content': {'baseLinkPos': {'x': -1.38703692, 'y': -0.04704912}, 'baseLinkOrientation': 6.2034955, 'baseLinkVelocity': {'x': -0.122101218, 'y': -0.00127125042}, 'baseLinkAngularVelocity': -0.001359699, 'wheelBaseOrientation': [3.21128273, 4.08005428, 3.55027866, 3.46296883], 'wheelSpeed': [-0.0283784755, -0.0221891347, -0.03365396, -0.04376701]}}\n"
     ]
    }
   ],
   "source": [
    "ws.send(\"action\",{\"voltage\":[1,0,0,0,100,200,100,100]})"
   ]
  },
  {
   "cell_type": "code",
   "execution_count": 8,
   "metadata": {},
   "outputs": [
    {
     "data": {
      "text/plain": [
       "<Queue at 0x1cf40042130 maxsize=0 _queue=[{'command': 'state', 'content': {'baseLinkPos': {'x': -0.11361023, 'y': -0.0467397869}, 'baseLinkOrientation': 0.106178574, 'baseLinkVelocity': {'x': -0.09783887, 'y': 0.000716104754}, 'baseLinkAngularVelocity': 0.0006899055, 'wheelBaseOrientation': [3.52815151, 3.78001571, 3.96643329, 3.97851849], 'wheelSpeed': [-0.0274148826, -0.0295335054, -0.03515495, -0.0213933643]}}, {'command': 'state', 'content': {'baseLinkPos': {'x': -0.462669343, 'y': -0.0469363146}, 'baseLinkOrientation': 0.153078645, 'baseLinkVelocity': {'x': -0.118741542, 'y': 0.00223530922}, 'baseLinkAngularVelocity': 0.000225561627, 'wheelBaseOrientation': [3.458417, 3.82383633, 3.9247613, 3.923528], 'wheelSpeed': [-0.0334638245, -0.025807431, -0.0218893886, -0.0213501528]}}, {'command': 'state', 'content': {'baseLinkPos': {'x': -0.7857292, 'y': -0.04697624}, 'baseLinkOrientation': 0.135071978, 'baseLinkVelocity': {'x': -0.118114874, 'y': -0.000454245135}, 'baseLinkAngularVelocity': -0.000388956571, 'wheelBaseOrientation': [3.2036798, 3.95374346, 3.8689394, 3.80008578], 'wheelSpeed': [-0.03583511, -0.0265908744, -0.0247525554, -0.0275482945]}}, {'command': 'state', 'content': {'baseLinkPos': {'x': -1.0813998, 'y': -0.0470674522}, 'baseLinkOrientation': 0.08276169, 'baseLinkVelocity': {'x': -0.106065422, 'y': -0.00242749159}, 'baseLinkAngularVelocity': -0.000732024, 'wheelBaseOrientation': [3.08212972, 4.10713339, 3.71079016, 3.66138315], 'wheelSpeed': [-0.0220195688, -0.0146511, -0.023308035, -0.0255100969]}}, {'command': 'state', 'content': {'baseLinkPos': {'x': -1.38703692, 'y': -0.04704912}, 'baseLinkOrientation': 6.2034955, 'baseLinkVelocity': {'x': -0.122101218, 'y': -0.00127125042}, 'baseLinkAngularVelocity': -0.001359699, 'wheelBaseOrientation': [3.21128273, 4.08005428, 3.55027866, 3.46296883], 'wheelSpeed': [-0.0283784755, -0.0221891347, -0.03365396, -0.04376701]}}] tasks=5>"
      ]
     },
     "execution_count": 8,
     "metadata": {},
     "output_type": "execute_result"
    }
   ],
   "source": [
    "ws.inQueue"
   ]
  },
  {
   "cell_type": "code",
   "execution_count": 6,
   "metadata": {},
   "outputs": [],
   "source": [
    "import numpy as np\n",
    "import torch\n",
    "def flatten(list_of_lists):\n",
    "    if len(list_of_lists) == 0:\n",
    "        return list(list_of_lists)\n",
    "    if hasattr(list_of_lists[0], '__iter__'):\n",
    "        return flatten(list_of_lists[0]) + flatten(list_of_lists[1:])\n",
    "    return list(list_of_lists[:1]) + flatten(list_of_lists[1:])\n",
    "def decomposeCosSin(angle):\n",
    "    return [np.cos(angle), np.sin(angle)]\n",
    "def processFeature(state:dict,targetPos):\n",
    "    feature = []\n",
    "    feature.append(state['baseLinkPos']['x']-targetPos['x'])\n",
    "    feature.append(state['baseLinkPos']['y']-targetPos['y'])\n",
    "    feature.append(decomposeCosSin(state['baseLinkOrientation']))\n",
    "    feature.append(state['baseLinkVelocity']['x'])\n",
    "    feature.append(state['baseLinkVelocity']['y'])\n",
    "    feature.append(state['baseLinkAngularVelocity'])\n",
    "    feature.append(decomposeCosSin(state['wheelBaseOrientation']))\n",
    "    feature.append(state['wheelSpeed'])\n",
    "    feature = flatten(feature)\n",
    "    return feature"
   ]
  },
  {
   "cell_type": "code",
   "execution_count": 40,
   "metadata": {},
   "outputs": [],
   "source": [
    "feature = processFeature(ws.inQueue.get_nowait()['content'],{'x':0,'y':0})"
   ]
  },
  {
   "cell_type": "code",
   "execution_count": 10,
   "metadata": {},
   "outputs": [],
   "source": [
    "from torch import nn\n",
    "class Q(nn.Module):\n",
    "    def __init__(self,state_size,action_size,hidden_size):\n",
    "        self.state_size = state_size\n",
    "        self.action_size = action_size\n",
    "        self.fc = nn.Sequential(\n",
    "        nn.Linear(state_size+action_size,hidden_size),\n",
    "        nn.LeakyReLU(),\n",
    "        nn.Linear(hidden_size,hidden_size),\n",
    "        nn.LeakyReLU(),\n",
    "        nn.Linear(hidden_size,1)\n",
    "        )\n",
    "\n",
    "    def forward(self,state,action):\n",
    "        return self.fc(torch.cat([state,action],dim=1))\n",
    "\n",
    "class Policy(nn.Module):\n",
    "    def __init__(self,state_size,action_size,hidden_size):\n",
    "        self.state_size = state_size\n",
    "        self.action_size = action_size\n",
    "        self.fc = nn.Sequential(\n",
    "        nn.Linear(state_size,hidden_size),\n",
    "        nn.LeakyReLU(),\n",
    "        nn.Linear(hidden_size,hidden_size),\n",
    "        nn.LeakyReLU(),\n",
    "        nn.Linear(hidden_size,action_size)\n",
    "        )\n",
    "\n",
    "    def forward(self,state):\n",
    "        return self.fc(state)"
   ]
  }
 ],
 "metadata": {
  "interpreter": {
   "hash": "c9624776d510bbc019f6ff189fc1336bb72bf6a7e32ae91ed9f1b177f47b3d26"
  },
  "kernelspec": {
   "display_name": "Python 3.9.7 ('nn')",
   "language": "python",
   "name": "python3"
  },
  "language_info": {
   "codemirror_mode": {
    "name": "ipython",
    "version": 3
   },
   "file_extension": ".py",
   "mimetype": "text/x-python",
   "name": "python",
   "nbconvert_exporter": "python",
   "pygments_lexer": "ipython3",
   "version": "3.9.7"
  }
 },
 "nbformat": 4,
 "nbformat_minor": 2
}
